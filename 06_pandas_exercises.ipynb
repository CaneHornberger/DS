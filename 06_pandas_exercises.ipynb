{
  "cells": [
    {
      "cell_type": "markdown",
      "metadata": {
        "id": "view-in-github",
        "colab_type": "text"
      },
      "source": [
        "<a href=\"https://colab.research.google.com/github/CaneHornberger/DS/blob/main/06_pandas_exercises.ipynb\" target=\"_parent\"><img src=\"https://colab.research.google.com/assets/colab-badge.svg\" alt=\"Open In Colab\"/></a>"
      ]
    },
    {
      "cell_type": "markdown",
      "metadata": {
        "id": "L_nKffgWPs-1"
      },
      "source": [
        "## Pandas exercises 1\n",
        "\n",
        "1. Import dependencies"
      ]
    },
    {
      "cell_type": "code",
      "execution_count": 2,
      "metadata": {
        "id": "hASl6yoNPs-2",
        "outputId": "bdfb7b59-f306-49c6-8a0a-0597f2ffa0e2",
        "colab": {
          "base_uri": "https://localhost:8080/",
          "height": 456
        }
      },
      "outputs": [
        {
          "output_type": "stream",
          "name": "stdout",
          "text": [
            "Collecting module_name\n",
            "  Downloading module_name-0.6.0-py2.py3-none-any.whl (4.5 kB)\n",
            "Installing collected packages: module_name\n",
            "Successfully installed module_name-0.6.0\n",
            "['/content', '/env/python', '/usr/lib/python310.zip', '/usr/lib/python3.10', '/usr/lib/python3.10/lib-dynload', '', '/usr/local/lib/python3.10/dist-packages', '/usr/lib/python3/dist-packages', '/usr/local/lib/python3.10/dist-packages/IPython/extensions', '/root/.ipython']\n"
          ]
        },
        {
          "output_type": "error",
          "ename": "ImportError",
          "evalue": "cannot import name 'function_name' from 'module_name' (/usr/local/lib/python3.10/dist-packages/module_name/__init__.py)",
          "traceback": [
            "\u001b[0;31m---------------------------------------------------------------------------\u001b[0m",
            "\u001b[0;31mImportError\u001b[0m                               Traceback (most recent call last)",
            "\u001b[0;32m<ipython-input-2-738f86c9d33b>\u001b[0m in \u001b[0;36m<cell line: 15>\u001b[0;34m()\u001b[0m\n\u001b[1;32m     13\u001b[0m \u001b[0;32mfrom\u001b[0m \u001b[0mmodule_name\u001b[0m \u001b[0;32mimport\u001b[0m \u001b[0;34m*\u001b[0m\u001b[0;34m\u001b[0m\u001b[0;34m\u001b[0m\u001b[0m\n\u001b[1;32m     14\u001b[0m \u001b[0;34m\u001b[0m\u001b[0m\n\u001b[0;32m---> 15\u001b[0;31m \u001b[0;32mfrom\u001b[0m \u001b[0mmodule_name\u001b[0m \u001b[0;32mimport\u001b[0m \u001b[0mfunction_name\u001b[0m \u001b[0;32mas\u001b[0m \u001b[0malias_name\u001b[0m\u001b[0;34m,\u001b[0m \u001b[0mClassName\u001b[0m \u001b[0;32mas\u001b[0m \u001b[0mAliasClassName\u001b[0m\u001b[0;34m\u001b[0m\u001b[0;34m\u001b[0m\u001b[0m\n\u001b[0m",
            "\u001b[0;31mImportError\u001b[0m: cannot import name 'function_name' from 'module_name' (/usr/local/lib/python3.10/dist-packages/module_name/__init__.py)",
            "",
            "\u001b[0;31m---------------------------------------------------------------------------\u001b[0;32m\nNOTE: If your import is failing due to a missing package, you can\nmanually install dependencies using either !pip or !apt.\n\nTo view examples of installing some common dependencies, click the\n\"Open Examples\" button below.\n\u001b[0;31m---------------------------------------------------------------------------\u001b[0m\n"
          ],
          "errorDetails": {
            "actions": [
              {
                "action": "open_url",
                "actionText": "Open Examples",
                "url": "/notebooks/snippets/importing_libraries.ipynb"
              }
            ]
          }
        }
      ],
      "source": [
        "\n",
        "import math\n",
        "import numpy as np\n",
        "import pandas as pd\n",
        "!pip install module_name\n",
        "from datetime import datetime\n",
        "from random import randint\n",
        "import sys\n",
        "print(sys.path)\n",
        "import matplotlib.pyplot as plt\n",
        "import tensorflow as tf\n",
        "import sys\n",
        "sys.path.append(\"/path/to/module/directory\")\n",
        "from module_name import *\n",
        "\n",
        "from module_name import function_name as alias_name, ClassName as AliasClassName\n"
      ]
    },
    {
      "cell_type": "markdown",
      "metadata": {
        "id": "33KUt_fEPs-2"
      },
      "source": [
        "---"
      ]
    },
    {
      "cell_type": "markdown",
      "metadata": {
        "id": "jGSEPEqXPs-3"
      },
      "source": [
        "2. Convert `list` to a pandas series using `pd.Series`"
      ]
    },
    {
      "cell_type": "code",
      "execution_count": 3,
      "metadata": {
        "id": "ZZmr1aIoPs-3",
        "colab": {
          "base_uri": "https://localhost:8080/"
        },
        "outputId": "0a3203f1-2981-4504-ab3f-27e83309cfa4"
      },
      "outputs": [
        {
          "output_type": "stream",
          "name": "stdout",
          "text": [
            "0    98\n",
            "1    24\n",
            "2    46\n",
            "3    87\n",
            "4    33\n",
            "dtype: int64\n"
          ]
        }
      ],
      "source": [
        "list = [98, 24, 46, 87, 33]\n",
        "import pandas as pd\n",
        "\n",
        "my_list = [98, 24, 46, 87, 33]\n",
        "\n",
        "my_series = pd.Series(my_list)\n",
        "\n",
        "print(my_series)\n"
      ]
    },
    {
      "cell_type": "markdown",
      "metadata": {
        "id": "rORNi5YyPs-4"
      },
      "source": [
        "3. Take the above series and add an index that starts at 2 and steps by 3"
      ]
    },
    {
      "cell_type": "code",
      "execution_count": 4,
      "metadata": {
        "id": "nZ1y9HF6Ps-3",
        "outputId": "d0522d39-9a40-4637-e7e8-0a85537ea209",
        "colab": {
          "base_uri": "https://localhost:8080/"
        }
      },
      "outputs": [
        {
          "output_type": "stream",
          "name": "stdout",
          "text": [
            "2     98\n",
            "5     24\n",
            "8     46\n",
            "11    87\n",
            "14    33\n",
            "dtype: int64\n"
          ]
        }
      ],
      "source": [
        "import pandas as pd\n",
        "my_list = [98, 24, 46, 87, 33]\n",
        "\n",
        "index_labels = range(2, 2 + len(my_list) * 3, 3)\n",
        "my_series_with_index = pd.Series(my_list, index=index_labels)\n",
        "\n",
        "print(my_series_with_index)\n"
      ]
    },
    {
      "cell_type": "markdown",
      "metadata": {
        "id": "2P199KkwPs-4"
      },
      "source": [
        "\n",
        "\n",
        "```\n",
        "# This is formatted as code\n",
        "```\n",
        "\n",
        "4. Create a dictionary of 4 names, ages, and careers   \n",
        "Convert this dictionary to a pandas dataframe: `df`.  \n",
        "Print the dataframe."
      ]
    },
    {
      "cell_type": "code",
      "execution_count": 5,
      "metadata": {
        "id": "lWoGNi5hPs-5",
        "outputId": "90f89070-fa3f-4735-a833-a670fea4fe26",
        "colab": {
          "base_uri": "https://localhost:8080/"
        }
      },
      "outputs": [
        {
          "output_type": "stream",
          "name": "stdout",
          "text": [
            "      Name  Age    Career\n",
            "0    Alice   25  Engineer\n",
            "1      Bob   30    Doctor\n",
            "2  Charlie   35    Artist\n",
            "3    David   40   Teacher\n"
          ]
        }
      ],
      "source": [
        "import pandas as pd\n",
        "\n",
        "data = {\n",
        "    'Name': ['Alice', 'Bob', 'Charlie', 'David'],\n",
        "    'Age': [25, 30, 35, 40],\n",
        "    'Career': ['Engineer', 'Doctor', 'Artist', 'Teacher']\n",
        "}\n",
        "\n",
        "df = pd.DataFrame(data)\n",
        "\n",
        "print(df)\n"
      ]
    },
    {
      "cell_type": "markdown",
      "metadata": {
        "id": "TD-Ej1K_Ps-5"
      },
      "source": [
        "5. Name the index of `df` 'participant_id'.  \n",
        "Print `df`."
      ]
    },
    {
      "cell_type": "code",
      "execution_count": 6,
      "metadata": {
        "id": "_54NO6pRPs-5",
        "outputId": "c13cf22c-fd32-47ce-8f53-a8a9b11359af",
        "colab": {
          "base_uri": "https://localhost:8080/"
        }
      },
      "outputs": [
        {
          "output_type": "stream",
          "name": "stdout",
          "text": [
            "                   Name  Age    Career\n",
            "participant_id                        \n",
            "0                 Alice   25  Engineer\n",
            "1                   Bob   30    Doctor\n",
            "2               Charlie   35    Artist\n",
            "3                 David   40   Teacher\n"
          ]
        }
      ],
      "source": [
        "df = df.rename_axis('participant_id')\n",
        "\n",
        "print(df)"
      ]
    },
    {
      "cell_type": "markdown",
      "metadata": {
        "id": "-JXKN55IPs-5"
      },
      "source": [
        "6. Use a pandas function to determine the data types of the columns of `df`."
      ]
    },
    {
      "cell_type": "code",
      "execution_count": 7,
      "metadata": {
        "id": "pmbPdPYmPs-5",
        "outputId": "420375c9-575f-4882-b84c-b5084384989a",
        "colab": {
          "base_uri": "https://localhost:8080/"
        }
      },
      "outputs": [
        {
          "output_type": "stream",
          "name": "stdout",
          "text": [
            "Name      object\n",
            "Age        int64\n",
            "Career    object\n",
            "dtype: object\n"
          ]
        }
      ],
      "source": [
        "column_types = df.dtypes\n",
        "print(column_types)"
      ]
    },
    {
      "cell_type": "markdown",
      "metadata": {
        "id": "67Yv1vrcPs-5"
      },
      "source": [
        "7. Using bracket notation, reference column `name`"
      ]
    },
    {
      "cell_type": "code",
      "execution_count": 9,
      "metadata": {
        "id": "KvYDyocgPs-6",
        "outputId": "88b0e105-ecb6-4956-d351-0a73348c0183",
        "colab": {
          "base_uri": "https://localhost:8080/"
        }
      },
      "outputs": [
        {
          "output_type": "stream",
          "name": "stdout",
          "text": [
            "participant_id\n",
            "0      Alice\n",
            "1        Bob\n",
            "2    Charlie\n",
            "3      David\n",
            "Name: Name, dtype: object\n"
          ]
        }
      ],
      "source": [
        "name_column = df['Name']\n",
        "print(name_column)"
      ]
    },
    {
      "cell_type": "markdown",
      "metadata": {
        "id": "m3cxo1_DPs-6"
      },
      "source": [
        "8. Using dot notation, reference column `name`\n",
        "\n",
        "> Indented block\n",
        "\n"
      ]
    },
    {
      "cell_type": "code",
      "source": [
        "import pandas as pd\n",
        "\n",
        "data = {\n",
        "    'name': ['Alice', 'Bob', 'Charlie', 'David'],\n",
        "    'age': [25, 30, 35, 40],\n",
        "    'career': ['Engineer', 'Doctor', 'Artist', 'Teacher']\n",
        "}\n",
        "\n",
        "df = pd.DataFrame(data)\n",
        "\n",
        "name_column = df.name\n",
        "\n",
        "print(name_column)\n"
      ],
      "metadata": {
        "id": "CfrZisJYIo5u",
        "outputId": "3210a63c-9a19-4a70-d86f-ecc6ce14afa1",
        "colab": {
          "base_uri": "https://localhost:8080/"
        }
      },
      "execution_count": 12,
      "outputs": [
        {
          "output_type": "stream",
          "name": "stdout",
          "text": [
            "0      Alice\n",
            "1        Bob\n",
            "2    Charlie\n",
            "3      David\n",
            "Name: name, dtype: object\n"
          ]
        }
      ]
    },
    {
      "cell_type": "markdown",
      "metadata": {
        "id": "QXcydAo-Ps-6"
      },
      "source": [
        "*8*. Reference column `name` and have it returned in a dataframe."
      ]
    },
    {
      "cell_type": "code",
      "execution_count": 13,
      "metadata": {
        "id": "Es6jw5eKPs-6",
        "outputId": "d8e6b5cc-0c3b-449b-8bb7-b51d26ebcf81",
        "colab": {
          "base_uri": "https://localhost:8080/"
        }
      },
      "outputs": [
        {
          "output_type": "stream",
          "name": "stdout",
          "text": [
            "      name\n",
            "0    Alice\n",
            "1      Bob\n",
            "2  Charlie\n",
            "3    David\n"
          ]
        }
      ],
      "source": [
        "import pandas as pd\n",
        "\n",
        "data = {\n",
        "    'name': ['Alice', 'Bob', 'Charlie', 'David'],\n",
        "    'age': [25, 30, 35, 40],\n",
        "    'career': ['Engineer', 'Doctor', 'Artist', 'Teacher']\n",
        "}\n",
        "\n",
        "df = pd.DataFrame(data)\n",
        "\n",
        "name_df = df[['name']]\n",
        "\n",
        "print(name_df)\n"
      ]
    },
    {
      "cell_type": "markdown",
      "metadata": {
        "id": "FGvwXkmsPs-6"
      },
      "source": [
        "9. Show the 3rd element in column `career`.\n",
        "\n",
        "> Indented block\n",
        "\n"
      ]
    },
    {
      "cell_type": "code",
      "execution_count": 14,
      "metadata": {
        "id": "9DFRMXJ-Ps-6",
        "outputId": "4baeab1a-9e33-408d-961c-e3f8cda24e9b",
        "colab": {
          "base_uri": "https://localhost:8080/"
        }
      },
      "outputs": [
        {
          "output_type": "stream",
          "name": "stdout",
          "text": [
            "Artist\n"
          ]
        }
      ],
      "source": [
        "import pandas as pd\n",
        "\n",
        "data = {\n",
        "    'name': ['Alice', 'Bob', 'Charlie', 'David'],\n",
        "    'age': [25, 30, 35, 40],\n",
        "    'career': ['Engineer', 'Doctor', 'Artist', 'Teacher']\n",
        "}\n",
        "\n",
        "df = pd.DataFrame(data)\n",
        "\n",
        "third_element = df.loc[2, 'career']\n",
        "\n",
        "print(third_element)\n"
      ]
    },
    {
      "cell_type": "markdown",
      "source": [
        "10.  Load the `iris` dataset that we used in class.  Use `iris` as the name of your data frame."
      ],
      "metadata": {
        "id": "rRH599bKtjbE"
      }
    },
    {
      "cell_type": "code",
      "source": [
        "import pandas as pd\n",
        "from sklearn.datasets import load_iris\n",
        "\n",
        "iris_data = load_iris()\n",
        "\n",
        "iris = pd.DataFrame(data=iris_data.data, columns=iris_data.feature_names)\n",
        "\n",
        "print(iris.head())\n"
      ],
      "metadata": {
        "id": "zzf2X8hptu02",
        "outputId": "205cf2ee-a357-4e66-f7f8-56b968d9d7ce",
        "colab": {
          "base_uri": "https://localhost:8080/"
        }
      },
      "execution_count": 15,
      "outputs": [
        {
          "output_type": "stream",
          "name": "stdout",
          "text": [
            "   sepal length (cm)  sepal width (cm)  petal length (cm)  petal width (cm)\n",
            "0                5.1               3.5                1.4               0.2\n",
            "1                4.9               3.0                1.4               0.2\n",
            "2                4.7               3.2                1.3               0.2\n",
            "3                4.6               3.1                1.5               0.2\n",
            "4                5.0               3.6                1.4               0.2\n"
          ]
        }
      ]
    },
    {
      "cell_type": "markdown",
      "source": [
        "11.  What is the correlation between the variables `sepal_length` and `sepal_width` for all the irises?"
      ],
      "metadata": {
        "id": "AKz6-jVWtvSB"
      }
    },
    {
      "cell_type": "code",
      "source": [
        "import pandas as pd\n",
        "from sklearn.datasets import load_iris\n",
        "\n",
        "iris_data = load_iris()\n",
        "\n",
        "iris = pd.DataFrame(data=iris_data.data, columns=iris_data.feature_names)\n",
        "\n",
        "correlation = iris['sepal length (cm)'].corr(iris['sepal width (cm)'])\n",
        "\n",
        "print(\"Correlation between sepal_length and sepal_width:\", correlation)\n"
      ],
      "metadata": {
        "id": "KflQPGBZKZG4",
        "outputId": "e3ed283c-4191-48e0-de44-956484100ec2",
        "colab": {
          "base_uri": "https://localhost:8080/"
        }
      },
      "execution_count": 19,
      "outputs": [
        {
          "output_type": "stream",
          "name": "stdout",
          "text": [
            "Correlation between sepal_length and sepal_width: -0.11756978413300208\n"
          ]
        }
      ]
    },
    {
      "cell_type": "markdown",
      "source": [
        "12.  Which of the three species has the highest correlation between `sepal_length` and `sepal_width`?  Show any calculations you use to support your answer."
      ],
      "metadata": {
        "id": "0FftiYs-uU0S"
      }
    },
    {
      "cell_type": "code",
      "source": [
        "import pandas as pd\n",
        "from sklearn.datasets import load_iris\n",
        "\n",
        "iris_data = load_iris()\n",
        "\n",
        "iris = pd.DataFrame(data=iris_data.data, columns=iris_data.feature_names)\n",
        "iris['species'] = iris_data.target_names[iris_data.target]\n",
        "\n",
        "correlations = {}\n",
        "for species in iris_data.target_names:\n",
        "    subset = iris[iris['species'] == species]\n",
        "    correlation = subset['sepal length (cm)'].corr(subset['sepal width (cm)'])\n",
        "    correlations[species] = correlation\n",
        "\n",
        "max_correlation_species = max(correlations, key=correlations.get)\n",
        "max_correlation_value = correlations[max_correlation_species]\n",
        "\n",
        "print(\"Correlation by species:\")\n",
        "for species, correlation in correlations.items():\n",
        "    print(f\"{species}: {correlation}\")\n",
        "\n",
        "print(\"\\nThe species with the highest correlation:\")\n",
        "print(f\"Species: {max_correlation_species}\")\n",
        "print(f\"Correlation value: {max_correlation_value}\")\n"
      ],
      "metadata": {
        "id": "TFGICsBQulQ-",
        "outputId": "891ff317-1bc0-4cf1-bae6-a9dafe5579fa",
        "colab": {
          "base_uri": "https://localhost:8080/"
        }
      },
      "execution_count": 20,
      "outputs": [
        {
          "output_type": "stream",
          "name": "stdout",
          "text": [
            "Correlation by species:\n",
            "setosa: 0.7425466856651597\n",
            "versicolor: 0.5259107172828243\n",
            "virginica: 0.4572278163941129\n",
            "\n",
            "The species with the highest correlation:\n",
            "Species: setosa\n",
            "Correlation value: 0.7425466856651597\n"
          ]
        }
      ]
    },
    {
      "cell_type": "markdown",
      "source": [
        "13.  Among the four variables, the two that are most negatively correlated (overall) are `sepal_width` and `petal_length`.  (How do we know this?)  Determine the same thing but for each species separately:  for each species, which two variables have the most negative (or the least positive) correlation?  Again, include calculations to support your answer."
      ],
      "metadata": {
        "id": "ZEwy0920u1NY"
      }
    },
    {
      "cell_type": "code",
      "source": [
        "import pandas as pd\n",
        "from sklearn.datasets import load_iris\n",
        "\n",
        "# Load the iris dataset\n",
        "iris_data = load_iris()\n",
        "\n",
        "# Create a Pandas DataFrame from the iris dataset\n",
        "iris = pd.DataFrame(data=iris_data.data, columns=iris_data.feature_names)\n",
        "iris['species'] = iris_data.target_names[iris_data.target]\n",
        "\n",
        "# Group by species and calculate the correlation matrix for each group\n",
        "grouped_by_species = iris.groupby('species')\n",
        "correlation_by_species = {}\n",
        "\n",
        "for species, group in grouped_by_species:\n",
        "    # Exclude the 'species' column from the group\n",
        "    group_no_species = group.drop('species', axis=1)\n",
        "\n",
        "    # Calculate the correlation matrix for the group\n",
        "    correlation_matrix_species = group_no_species.corr()\n",
        "\n",
        "    # Find the most negatively correlated variables for each species\n",
        "    most_negatively_correlated_species = correlation_matrix_species.unstack().sort_values().head(1)\n",
        "    correlation_by_species[species] = most_negatively_correlated_species\n",
        "\n",
        "# Print the most negatively correlated variables for each species\n",
        "print(\"\\nMost negatively correlated variables by species:\")\n",
        "for species, correlation_pair in correlation_by_species.items():\n",
        "    print(f\"\\nSpecies: {species}\")\n",
        "    print(correlation_pair)\n"
      ],
      "metadata": {
        "id": "y9ekIo5bLmEw",
        "outputId": "b2674b5f-8306-46e6-d81c-a0297fd11d56",
        "colab": {
          "base_uri": "https://localhost:8080/"
        }
      },
      "execution_count": 24,
      "outputs": [
        {
          "output_type": "stream",
          "name": "stdout",
          "text": [
            "\n",
            "Most negatively correlated variables by species:\n",
            "\n",
            "Species: setosa\n",
            "sepal width (cm)  petal length (cm)    0.1777\n",
            "dtype: float64\n",
            "\n",
            "Species: versicolor\n",
            "sepal length (cm)  sepal width (cm)    0.525911\n",
            "dtype: float64\n",
            "\n",
            "Species: virginica\n",
            "sepal length (cm)  petal width (cm)    0.281108\n",
            "dtype: float64\n"
          ]
        }
      ]
    },
    {
      "cell_type": "markdown",
      "source": [
        "14.  Once again, the variables `sepal_width` and `petal_length` are negatively correlated.  But for each individual species, these two variables are positively correlated.  How is this possible?  Explain this phenomenon.  Use a data visualization if it helps.\n"
      ],
      "metadata": {
        "id": "cK_OhSaRvxhE"
      }
    },
    {
      "cell_type": "code",
      "source": [
        "import pandas as pd\n",
        "import matplotlib.pyplot as plt\n",
        "from sklearn.datasets import load_iris\n",
        "\n",
        "# Load the iris dataset\n",
        "iris_data = load_iris()\n",
        "\n",
        "# Create a Pandas DataFrame from the iris dataset\n",
        "iris = pd.DataFrame(data=iris_data.data, columns=iris_data.feature_names)\n",
        "iris['species'] = iris_data.target_names[iris_data.target]\n",
        "\n",
        "# Scatter plot for each species\n",
        "for species, group in iris.groupby('species'):\n",
        "    plt.scatter(group['sepal width (cm)'], group['petal length (cm)'], label=species)\n",
        "\n",
        "# Add labels and legend\n",
        "plt.xlabel('Sepal Width (cm)')\n",
        "plt.ylabel('Petal Length (cm)')\n",
        "plt.title('Relationship between Sepal Width and Petal Length by Species')\n",
        "plt.legend()\n",
        "plt.grid(True)\n",
        "plt.show()\n"
      ],
      "metadata": {
        "id": "H4_QQDWHwJ3t",
        "outputId": "1955050f-964f-4e17-d9c3-ee35ab693689",
        "colab": {
          "base_uri": "https://localhost:8080/",
          "height": 472
        }
      },
      "execution_count": 25,
      "outputs": [
        {
          "output_type": "display_data",
          "data": {
            "text/plain": [
              "<Figure size 640x480 with 1 Axes>"
            ],
            "image/png": "[encoded data removed]"
          },
          "metadata": {}
        }
      ]
    },
    {
      "cell_type": "markdown",
      "source": [
        "This strange relationship where the data reverses when divided into their own categories is called the reversal paradox."
      ],
      "metadata": {
        "id": "oen_o6B3MPtU"
      }
    }
  ],
  "metadata": {
    "kernelspec": {
      "display_name": "Python 3.8.9 64-bit",
      "language": "python",
      "name": "python3"
    },
    "language_info": {
      "codemirror_mode": {
        "name": "ipython",
        "version": 3
      },
      "file_extension": ".py",
      "mimetype": "text/x-python",
      "name": "python",
      "nbconvert_exporter": "python",
      "pygments_lexer": "ipython3",
      "version": "3.8.9"
    },
    "orig_nbformat": 4,
    "vscode": {
      "interpreter": {
        "hash": "31f2aee4e71d21fbe5cf8b01ff0e069b9275f58929596ceb00d14d90e3e16cd6"
      }
    },
    "colab": {
      "provenance": [],
      "include_colab_link": true
    }
  },
  "nbformat": 4,
  "nbformat_minor": 0
}