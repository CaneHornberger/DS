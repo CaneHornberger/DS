{
  "nbformat": 4,
  "nbformat_minor": 0,
  "metadata": {
    "colab": {
      "provenance": [],
      "authorship_tag": "ABX9TyPqF5zQmbES7qtKGCDJzXqe",
      "include_colab_link": true
    },
    "kernelspec": {
      "name": "python3",
      "display_name": "Python 3"
    },
    "language_info": {
      "name": "python"
    }
  },
  "cells": [
    {
      "cell_type": "markdown",
      "metadata": {
        "id": "view-in-github",
        "colab_type": "text"
      },
      "source": [
        "<a href=\"https://colab.research.google.com/github/CaneHornberger/DS/blob/main/untitled1.ipynb\" target=\"_parent\"><img src=\"https://colab.research.google.com/assets/colab-badge.svg\" alt=\"Open In Colab\"/></a>"
      ]
    },
    {
      "source": [
        "import random\n",
        "\n",
        "\n",
        "target_number = random.randint(0, 100)\n",
        "\n",
        "\n",
        "def check_guess(guess):\n",
        "    if guess == target_number:\n",
        "        return \"You got it!\"\n",
        "    elif guess < target_number:\n",
        "        return \"Too low\"\n",
        "    elif guess > target_number:\n",
        "        return \"Too high\"\n",
        "    else:\n",
        "        print(\"Please use intergers only\")\n",
        "\n",
        "while True:\n",
        "    user_guess = input(\"Guess the number (between 0 and 100): \")\n",
        "    if not user_guess.isdigit():\n",
        "        print(\"Please enter a integer.\")\n",
        "        continue\n",
        "    user_guess = int(user_guess)\n",
        "    result = check_guess(user_guess)\n",
        "    print(result)\n",
        "    if result == \"You got it!\":\n",
        "        break"
      ],
      "cell_type": "code",
      "metadata": {
        "colab": {
          "base_uri": "https://localhost:8080/"
        },
        "id": "iB58YnpcL3Dh",
        "outputId": "1a192afe-51ff-470c-d775-eb2d044dac66"
      },
      "execution_count": null,
      "outputs": [
        {
          "output_type": "stream",
          "name": "stdout",
          "text": [
            "Guess the number (between 0 and 100): ten\n",
            "Please enter a valid integer.\n",
            "Guess the number (between 0 and 100): 10\n",
            "Too low\n",
            "Guess the number (between 0 and 100): 60\n",
            "Too high\n",
            "Guess the number (between 0 and 100): 30\n",
            "Too high\n",
            "Guess the number (between 0 and 100): 20\n",
            "Too low\n",
            "Guess the number (between 0 and 100): 25\n",
            "Too high\n",
            "Guess the number (between 0 and 100): 23\n",
            "Too high\n",
            "Guess the number (between 0 and 100): 22\n",
            "Too high\n",
            "Guess the number (between 0 and 100): 21\n",
            "You got it!\n"
          ]
        }
      ]
    }
  ]
}