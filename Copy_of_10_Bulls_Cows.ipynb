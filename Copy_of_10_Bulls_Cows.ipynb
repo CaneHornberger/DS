{
  "cells": [
    {
      "cell_type": "markdown",
      "metadata": {
        "id": "view-in-github",
        "colab_type": "text"
      },
      "source": [
        "<a href=\"https://colab.research.google.com/github/CaneHornberger/DS/blob/main/Copy_of_10_Bulls_Cows.ipynb\" target=\"_parent\"><img src=\"https://colab.research.google.com/assets/colab-badge.svg\" alt=\"Open In Colab\"/></a>"
      ]
    },
    {
      "cell_type": "markdown",
      "metadata": {
        "id": "lSwr8T3SNrkj"
      },
      "source": [
        "## Bulls and Cows:\n",
        "### Another guessing game.\n",
        "### Assignment due Wednesday 10 April at 10 am\n",
        "\n",
        "General instructions:\n",
        "\n",
        "1. You may work in teams of up to three people.  As usual, if you do this, make sure all names are clearly displayed at the top of your submission, and all team members should submit the same GitHub URL.\n",
        "\n",
        "1. Use only basic Python code.  Do not use `numpy` arrays or functions.\n",
        "\n",
        "2. Practice utilizing the coding concepts we have studied.  \n",
        "\n",
        "3. Write docstrings for all your functions.\n",
        "\n"
      ]
    },
    {
      "cell_type": "markdown",
      "metadata": {
        "id": "qrWRyeI2NwHA"
      },
      "source": [
        "### Goal:  program this game\n",
        "In this assignment you will program a version of an old game called Bulls and Cows.  It is somewhat similar to Wordle, but with numbers instead of words (and various other differences . . . read carefully!).\n",
        "\n",
        "The game is played like this:  \n",
        "1. The computer will choose a secret code that the player is trying to guess.\n",
        "2. The secret code will be 4 digits long.  It will use only the digits 1-6, and it will have no repeated digits.  For example the secret code might be 1326 or 6241 but it cannot be 2652 or 4913 or 2601.\n",
        "3. The computer will prompt the user for a guess, and the user will guess.  The guess must follow the same rules (4 digits long, only use digits 1-6, no repeats).  The program should not allow an invalid guess.\n",
        "4. After each guess, the computer will give feedback to the user as follows:  \n",
        "(i) Each digit of the guess that is in the secret code and in the correct position is called a Bull (B).  \n",
        "(ii) Each digit of the guess that exists somewhere in the secret code, but *not* in the same position as in the guess, is called a Cow (C).  \n",
        "(iii) A digit of the guess that doesn't occur anywhere in the secret code is called a miss (X).  \n",
        "The computer will inform the user how many Bulls, how many Cows, and how many misses the user's guess had.  \n",
        "The feedback will always start with B's, then list C's, then list X's.  \n",
        "For example if the secret code is 1326  \n",
        "and the guess is 4316  \n",
        "then the computer should respond with \"BBCX\"  \n",
        "because there are two Bulls (the 3 and the 6 are Bulls, because they occur in the same position in the guess as in the secret code),  \n",
        "one Cow (the 1, which is a correct digit but in the wrong position),  \n",
        "and one Miss (the 4, which does not occur anywhere in the secret code).  \n",
        "> **Important:** the feedback string should always list the Bulls first, then the Cows, then the Misses.  It should **not** tell the user which digits are which!  The only information in the feedback string is how many of each there are.  In the example above, for instance, the feedback is **not** \"XBCB\" but rather \"BBCX\".  This is different from Wordle, if you are familiar with that game.\n",
        "5. The user should then be prompted for another guess.  This guess-with-feedback process should be repeated until the user gets the correct code, at which point the computer should indicate that they have won the game.  However, the user should only be allowed 6 guesses; if they don't guess correctly in 6 attempts, then following the feedback from their final guess they should get a message that they have lost the game, and the secret code should be revealed.\n",
        "\n",
        "\n",
        "\n",
        "\n",
        "\n",
        "\n",
        "\n"
      ]
    },
    {
      "cell_type": "markdown",
      "source": [
        "### Steps\n",
        "We will build this game using several functions.  \n",
        "\n",
        "1. **Count the Bulls:**  \n",
        "Write a function that takes two lists of the same length, and returns the number of Bulls.  That is, it should return the number of indices where the lists contain the same element.  *(Note:  you don't have to check that the entries are between 1 and 6, or that there are no repeats, etc.  A different function will do that.)*\n",
        "\n",
        "> A sample run might look like\n",
        "```\n",
        "first = [11, 3, 17, 5, 1]\n",
        "second = [20, 2, 17, 3, 1]\n",
        "count_bulls(first,second)\n",
        "```\n",
        "```\n",
        " 2\n",
        "```\n"
      ],
      "metadata": {
        "id": "XSH1JULaurD1"
      }
    },
    {
      "cell_type": "markdown",
      "source": [
        "Define your function in the code chunk below.  The function definition command and the return command are pre-populated for you.  You just have to fill in the part which does the actual counting.  I recommend using a list comprehension to do this.\n"
      ],
      "metadata": {
        "id": "pXoOyBk7xmPa"
      }
    },
    {
      "cell_type": "code",
      "source": [
        "# the Bull-counting function\n",
        "def count_bulls(first, second):\n",
        "  '''\n",
        "  Takes two lists of the same length and computes the number of positions where the list entries agree.\n",
        "  '''\n",
        "  num_bulls = sum(f == s for f, s in zip(first, second))\n",
        "  return num_bulls"
      ],
      "metadata": {
        "id": "vEsRSe8KxlcF"
      },
      "execution_count": 5,
      "outputs": []
    },
    {
      "cell_type": "code",
      "source": [
        "secret_code = [1, 2, 3, 4]\n",
        "guess = [1, 3, 1, 5]\n",
        "bulls = count_bulls(secret_code, guess)\n",
        "print(\"Number of Bulls:\", bulls)"
      ],
      "metadata": {
        "colab": {
          "base_uri": "https://localhost:8080/"
        },
        "id": "35JJbapxOkvS",
        "outputId": "0001ed16-d2aa-4954-a5c5-84d2fbd421d9"
      },
      "execution_count": 8,
      "outputs": [
        {
          "output_type": "stream",
          "name": "stdout",
          "text": [
            "Number of Bulls: 1\n"
          ]
        }
      ]
    },
    {
      "cell_type": "markdown",
      "source": [
        "Add code and/or text chunks below to demonstrate that you have tested your code and that it works correctly."
      ],
      "metadata": {
        "id": "yACJyJtOzE2U"
      }
    },
    {
      "cell_type": "markdown",
      "source": [
        "2. **Count something else:**  \n",
        "To count the cows it will be helpful first to count how many of the elements occur in both strings, without paying attention their positions.\n",
        "Write a function called `count_animals` that takes two lists of the same length, and returns the number of elements of the second list that are also in the first list.  (In the game setting, each such element is either a Bull or a Cow, but don't worry about which is which for this problem.)\n",
        "You may assume the lists do not contain repeated elements, since this will be the case when the function is called in the game.\n",
        "\n",
        "> This time a sample run might look like\n",
        "```\n",
        "first = [11, 3, 17, 5, 1]\n",
        "second = [20, 2, 17, 3, 1]\n",
        "count_animals(first,second)\n",
        "```\n",
        "```\n",
        " 3\n",
        "```\n",
        "\n",
        "This one isn't started for you.  Remember to include a docstring.  This can also be done using a list comprehension, similar to the previous function.\n",
        "\n"
      ],
      "metadata": {
        "id": "aMsOmejkzNVN"
      }
    },
    {
      "cell_type": "code",
      "source": [
        "def count_animals(first, second):\n",
        "    num_animals = sum(elem in first for elem in second)\n",
        "    return num_animals\n",
        "\n",
        "# Test the count_animals function\n",
        "first = [11, 3, 17, 5,]\n",
        "second = [20, 2, 17, 3,]\n",
        "animals = count_animals(first, second)\n",
        "print(\"Number of Animals:\", animals)  # Number of Animals: 2\n",
        "\n"
      ],
      "metadata": {
        "id": "yRX219q02e6i",
        "colab": {
          "base_uri": "https://localhost:8080/"
        },
        "outputId": "30fc9e7c-deb8-4f82-c184-36db44056d34"
      },
      "execution_count": 9,
      "outputs": [
        {
          "output_type": "stream",
          "name": "stdout",
          "text": [
            "Number of Animals: 2\n"
          ]
        }
      ]
    },
    {
      "cell_type": "markdown",
      "source": [
        "Again, demonstrate below that you have tested your code and that it works."
      ],
      "metadata": {
        "id": "HXRNwANS2f-4"
      }
    },
    {
      "cell_type": "markdown",
      "source": [
        "3. **Count the cows:**  \n",
        "Write a function called `count_cows` that counts the cows.  \n",
        "> This time a sample run might look like\n",
        "```\n",
        "first = [11, 3, 17, 5, 1]\n",
        "second = [20, 2, 17, 3, 1]\n",
        "count_cows(first,second)\n",
        "```\n",
        "```\n",
        " 1\n",
        "```\n",
        "*Use the two previously defined functions to help you!  \n",
        "In fact, remember that the only reason we wrote the `count_animals` function was to help count the cows.*\n",
        "\n",
        "You can do this with only two lines of code, not counting documentation!"
      ],
      "metadata": {
        "id": "x2DAPkxj2GMo"
      }
    },
    {
      "cell_type": "code",
      "source": [
        "def count_cows(first, second):\n",
        "\n",
        "    return count_animals(first, second) - count_bulls(first, second)\n",
        "# this takes the animals and subtracts the bulls\n"
      ],
      "metadata": {
        "id": "QnxnaOPI3YZO"
      },
      "execution_count": 10,
      "outputs": []
    },
    {
      "cell_type": "code",
      "source": [
        "first = [11, 3, 17, 5,]\n",
        "second = [20, 2, 17, 3,]\n",
        "cows = count_cows(first, second)\n",
        "print(\"Number of Cows:\", cows)  # Number of Cows: 1\n"
      ],
      "metadata": {
        "colab": {
          "base_uri": "https://localhost:8080/"
        },
        "id": "KrK91tQGPvRM",
        "outputId": "4201a8fc-40e8-4a15-948b-afa41193dde0"
      },
      "execution_count": 12,
      "outputs": [
        {
          "output_type": "stream",
          "name": "stdout",
          "text": [
            "Number of Cows: 1\n"
          ]
        }
      ]
    },
    {
      "cell_type": "markdown",
      "metadata": {
        "id": "hWQhYDIVYjXr"
      },
      "source": [
        "4. **Create feedback string**  \n",
        "Write a `build_response_str` function that takes three numbers, say `b,c,l`, and outputs a string of total length `l` that consists of `b` B's, followed by `c` C's, and the rest X's (until the total length is `l`).\n",
        "\n",
        "> Sample run:\n",
        "```\n",
        "build_response_str(4,3,9)\n",
        "```\n",
        "```\n",
        "BBBBCCCXX\n",
        "```"
      ]
    },
    {
      "cell_type": "code",
      "source": [
        "def build_response_str(b, c, l):\n",
        "\n",
        "    return 'B' * b + 'C' * c + 'X' * (l - b - c)\n",
        "\n",
        "response = build_response_str(4, 3, 9)\n",
        "print(\"Feedback String:\", response)  #Feedback String: BBBBCCCXX\n"
      ],
      "metadata": {
        "id": "GSimWqUsMaPE",
        "colab": {
          "base_uri": "https://localhost:8080/"
        },
        "outputId": "3fd7096a-ef99-43ae-c44f-d27f2d4434f9"
      },
      "execution_count": 13,
      "outputs": [
        {
          "output_type": "stream",
          "name": "stdout",
          "text": [
            "Feedback String: BBBBCCCXX\n"
          ]
        }
      ]
    },
    {
      "cell_type": "markdown",
      "metadata": {
        "id": "omzE6sLKwsMC"
      },
      "source": [
        "5.  **Generate feedback for guesses**  \n",
        "Write a function `response(first,second)` that takes two lists of the same length, and outputs a string consisting of some number of B's followed by some number of C's followed by some number of X's, where the numbers correspond to the things we counted above.  That is, if `first` were the secret code in the game and `second` were the user's guess, then we would print one B for each Bull, one C for each Cow, and one X for each Miss. The total output string should have the same length as the input strings.\n",
        "\n",
        "> Sample run:\n",
        "```\n",
        "first = [11, 3, 17, 5, 1]\n",
        "second = [20, 2, 17, 3, 1]\n",
        "response(first,second)\n",
        "```\n",
        "```\n",
        " BBCXX\n",
        "```\n",
        "\n",
        "With all the functions you've already put in place, this should be simple.  Test your code once it's written.\n"
      ]
    },
    {
      "cell_type": "code",
      "source": [
        "def response(first, second):\n",
        "\n",
        "    b = count_bulls(first, second)\n",
        "    c = count_cows(first, second)\n",
        "    return build_response_str(b, c, len(first))\n",
        "\n",
        "# Test the response function\n",
        "first = [11, 3, 17, 5, 1]\n",
        "second = [20, 2, 17, 3, 1]\n",
        "feedback = response(first, second)\n",
        "print(\"Feedback String:\", feedback)  #Feedback String: BBCXX\n"
      ],
      "metadata": {
        "id": "RD1qq7l783y5",
        "colab": {
          "base_uri": "https://localhost:8080/"
        },
        "outputId": "76cf3acf-feb8-443a-8218-fd115665c136"
      },
      "execution_count": 14,
      "outputs": [
        {
          "output_type": "stream",
          "name": "stdout",
          "text": [
            "Feedback String: BBCXX\n"
          ]
        }
      ]
    },
    {
      "cell_type": "markdown",
      "metadata": {
        "id": "LWshNPjPZJdQ"
      },
      "source": [
        "6.  **Choose the secret code**  \n",
        "The `random` package, and specifically the `sample` sub-package, is useful for generating random samples.  Try running the following lines of code several times.\n",
        "\n"
      ]
    },
    {
      "cell_type": "code",
      "source": [
        "from random import sample\n",
        "\n",
        "sample(range(1,7),4)  # the first argument is the population to be sampled, and the second is the number of samples\n",
        "                      # recall that `range(a,b)` includes `a` but stops at `b-1`"
      ],
      "metadata": {
        "id": "OzEZ5BQZ85jV",
        "colab": {
          "base_uri": "https://localhost:8080/"
        },
        "outputId": "897657f2-8947-4220-9c3c-77067282342f"
      },
      "execution_count": 17,
      "outputs": [
        {
          "output_type": "execute_result",
          "data": {
            "text/plain": [
              "[5, 6, 1, 2]"
            ]
          },
          "metadata": {},
          "execution_count": 17
        }
      ]
    },
    {
      "cell_type": "markdown",
      "source": [
        "What type of object is returned by the `sample` function?\n"
      ],
      "metadata": {
        "id": "N1BOe2Xd-kr4"
      }
    },
    {
      "cell_type": "code",
      "source": [
        "# list object"
      ],
      "metadata": {
        "id": "U5AAu9sG-slX"
      },
      "execution_count": null,
      "outputs": []
    },
    {
      "cell_type": "markdown",
      "source": [],
      "metadata": {
        "id": "yGZw8xFZ-uN4"
      }
    },
    {
      "cell_type": "markdown",
      "source": [
        "7. **Verify the guess**  \n",
        "Finish writing a function called `get_guess` (started below) to prompt the user for a guess and then make sure the input is valid according to the rules of the game.\n",
        "The prompt is already given.  Note that the `list` command converts the input into a list of characters so that it can be passed to the other functions (which are expecting lists).   \n",
        ">**Alert:  you will likely have to think more about data types before this is all over.**"
      ],
      "metadata": {
        "id": "mbK84TdIAVsO"
      }
    },
    {
      "cell_type": "code",
      "source": [
        "def get_guess():\n",
        "\n",
        "    while True:\n",
        "        guess = input(\"Enter your guess (4 digits from 1 to 6 with no repeats): \")\n",
        "        guess_list = list(guess)\n",
        "\n",
        "        # Check if the input is exactly 4 characters long\n",
        "        if len(guess_list) != 4:\n",
        "            print(\"Invalid input! Your guess must be exactly 4 digits.\")\n",
        "            continue\n",
        "\n",
        "        # Check if the input consists of digits from 1 to 6\n",
        "        if not all(char.isdigit() and '1' <= char <= '6' for char in guess_list):\n",
        "            print(\"Invalid input! Your guess must contain only digits from 1 to 6.\")\n",
        "            continue\n",
        "\n",
        "        # Check if there are no repeated digits in the guess\n",
        "        if len(set(guess_list)) != 4:\n",
        "            print(\"Invalid input! Your guess must have no repeated digits.\")\n",
        "            continue\n",
        "\n",
        "        return [int(char) for char in guess_list]\n"
      ],
      "metadata": {
        "id": "ir34he69n5Fg"
      },
      "execution_count": 20,
      "outputs": []
    },
    {
      "cell_type": "markdown",
      "source": [
        "As usual, test your code.  What type of objects are we dealing with here?"
      ],
      "metadata": {
        "id": "PSPYpeZYONf0"
      }
    },
    {
      "cell_type": "code",
      "source": [
        "valid_guess = get_guess()\n",
        "print(\"Valid Guess:\", valid_guess)\n"
      ],
      "metadata": {
        "id": "ytgf6BfiOPNh",
        "colab": {
          "base_uri": "https://localhost:8080/"
        },
        "outputId": "196f6578-9ab5-46ca-e41d-90029748163f"
      },
      "execution_count": 22,
      "outputs": [
        {
          "output_type": "stream",
          "name": "stdout",
          "text": [
            "Enter your guess (4 digits from 1 to 6 with no repeats): 1223\n",
            "Invalid input! Your guess must have no repeated digits.\n",
            "Enter your guess (4 digits from 1 to 6 with no repeats): 1234\n",
            "Valid Guess: [1, 2, 3, 4]\n"
          ]
        }
      ]
    },
    {
      "cell_type": "markdown",
      "source": [
        "8. **Put it all together**  \n",
        "Finally, fill in the details of the function `bulls_cows` below so that it will play the game of Bulls and Cows when called.  Note that the function takes no arguments and returns nothing.\n"
      ],
      "metadata": {
        "id": "WdtvUrA4-uzn"
      }
    },
    {
      "cell_type": "code",
      "execution_count": null,
      "metadata": {
        "id": "_u48oidGzRKX"
      },
      "outputs": [],
      "source": [
        "from random import sample\n",
        "\n",
        "def bulls_cows():\n",
        "  '''\n",
        "  This function plays the game \"Bulls and Cows.\"\n",
        "  It takes no arguments and returns nothing.\n",
        "  '''\n",
        "  code=                               # (finish) computer selects the secret code\n",
        "\n",
        "  for i in range(6):                  # user gets a maximum of 6 guesses\n",
        "    guess=                            # (finish) run a function to get a guess\n",
        "    if code==guess:\n",
        "      print(\"You guessed it!\")\n",
        "      return\n",
        "    print(response(code,guess))\n",
        "  print(f\"You have run out of guesses. The secret code was {code}.\")\n",
        "  return"
      ]
    },
    {
      "cell_type": "code",
      "source": [
        "from random import sample\n",
        "\n",
        "def bulls_cows():\n",
        "    '''\n",
        "    This function plays the game \"Bulls and Cows.\"\n",
        "    It takes no arguments and returns nothing.\n",
        "    '''\n",
        "    code = sample(range(1, 7), 4)  # Computer selects the secret code\n",
        "\n",
        "    def get_guess():\n",
        "        '''\n",
        "        Prompts the user for a guess and verifies that the input is legitimate.\n",
        "        Returns the valid guess as a list of integers.\n",
        "        '''\n",
        "        while True:\n",
        "            guess = input(\"Enter your guess (4 digits from 1 to 6 with no repeats): \")\n",
        "            guess_list = list(guess)\n",
        "\n",
        "            # Check if the input is exactly 4 characters long\n",
        "            if len(guess_list) != 4:\n",
        "                print(\"Invalid input! Your guess must be exactly 4 digits.\")\n",
        "                continue\n",
        "\n",
        "            # Check if the input consists of digits from 1 to 6\n",
        "            if not all(char.isdigit() and '1' <= char <= '6' for char in guess_list):\n",
        "                print(\"Invalid input! Your guess must contain only digits from 1 to 6.\")\n",
        "                continue\n",
        "\n",
        "            # Check if there are no repeated digits in the guess\n",
        "            if len(set(guess_list)) != 4:\n",
        "                print(\"Invalid input! Your guess must have no repeated digits.\")\n",
        "                continue\n",
        "\n",
        "            return [int(char) for char in guess_list]\n",
        "\n",
        "    for i in range(6):  # User gets a maximum of 6 guesses\n",
        "        guess = get_guess()  # Run the get_guess function to get a guess\n",
        "        if code == guess:\n",
        "            print(\"You guessed it!\")\n",
        "            return\n",
        "        print(response(code, guess))\n",
        "\n",
        "    print(f\"You have run out of guesses. The secret code was {code}.\")\n"
      ],
      "metadata": {
        "id": "3wvOu5eHo3VZ"
      },
      "execution_count": 24,
      "outputs": []
    },
    {
      "cell_type": "markdown",
      "metadata": {
        "id": "NzjqX_9K3OuV"
      },
      "source": [
        "Play the game a few times below.  Make sure it behaves as you think it should!"
      ]
    },
    {
      "cell_type": "code",
      "execution_count": 25,
      "metadata": {
        "id": "b-HELV-z3OuW",
        "colab": {
          "base_uri": "https://localhost:8080/"
        },
        "outputId": "3d5f7b7b-3927-487f-8b26-b10e13af8fe9"
      },
      "outputs": [
        {
          "output_type": "stream",
          "name": "stdout",
          "text": [
            "Enter your guess (4 digits from 1 to 6 with no repeats): 1233\n",
            "Invalid input! Your guess must have no repeated digits.\n",
            "Enter your guess (4 digits from 1 to 6 with no repeats): 1234\n",
            "BCCX\n",
            "Enter your guess (4 digits from 1 to 6 with no repeats): 1235\n",
            "CCCX\n",
            "Enter your guess (4 digits from 1 to 6 with no repeats): 2354\n",
            "BBCX\n",
            "Enter your guess (4 digits from 1 to 6 with no repeats): 2634\n",
            "BBXX\n",
            "Enter your guess (4 digits from 1 to 6 with no repeats): 2154\n",
            "BBCC\n",
            "Enter your guess (4 digits from 1 to 6 with no repeats): 2154\n",
            "BBCC\n",
            "You have run out of guesses. The secret code was [2, 5, 1, 4].\n"
          ]
        }
      ],
      "source": [
        "bulls_cows()"
      ]
    },
    {
      "cell_type": "code",
      "source": [
        "bulls_cows()"
      ],
      "metadata": {
        "id": "inzOdtimDfGU",
        "colab": {
          "base_uri": "https://localhost:8080/"
        },
        "outputId": "86550d85-6a31-4754-d65f-e6195d9799c2"
      },
      "execution_count": 26,
      "outputs": [
        {
          "output_type": "stream",
          "name": "stdout",
          "text": [
            "Invalid input! Your guess must be exactly 4 digits.\n",
            "CCXX\n",
            "BCCX\n",
            "CCCX\n",
            "BBBX\n",
            "BBXX\n",
            "Enter your guess (4 digits from 1 to 6 with no repeats): 3652\n",
            "BBBX\n",
            "You have run out of guesses. The secret code was [4, 6, 5, 2].\n"
          ]
        }
      ]
    },
    {
      "cell_type": "code",
      "source": [
        "bulls_cows()"
      ],
      "metadata": {
        "id": "Eqw-5laFDfkG",
        "colab": {
          "base_uri": "https://localhost:8080/"
        },
        "outputId": "95cd1e04-c60c-48bf-cd57-f14d9f2ed7d9"
      },
      "execution_count": null,
      "outputs": [
        {
          "output_type": "stream",
          "name": "stdout",
          "text": [
            "Enter your guess (4 digits from 1 to 6 with no repeats): 888888\n",
            "Invalid input! Your guess must be exactly 4 digits.\n",
            "Enter your guess (4 digits from 1 to 6 with no repeats): 556565\n",
            "Invalid input! Your guess must be exactly 4 digits.\n",
            "Enter your guess (4 digits from 1 to 6 with no repeats): 45455\n",
            "Invalid input! Your guess must be exactly 4 digits.\n",
            "Enter your guess (4 digits from 1 to 6 with no repeats): 45455\n",
            "Invalid input! Your guess must be exactly 4 digits.\n",
            "Enter your guess (4 digits from 1 to 6 with no repeats): 3434\n",
            "Invalid input! Your guess must have no repeated digits.\n",
            "Enter your guess (4 digits from 1 to 6 with no repeats): 223\n",
            "Invalid input! Your guess must be exactly 4 digits.\n",
            "Enter your guess (4 digits from 1 to 6 with no repeats): 2334\n",
            "Invalid input! Your guess must have no repeated digits.\n",
            "Enter your guess (4 digits from 1 to 6 with no repeats): 23434\n",
            "Invalid input! Your guess must be exactly 4 digits.\n",
            "Enter your guess (4 digits from 1 to 6 with no repeats): 234344\n",
            "Invalid input! Your guess must be exactly 4 digits.\n",
            "Enter your guess (4 digits from 1 to 6 with no repeats): 23444\n",
            "Invalid input! Your guess must be exactly 4 digits.\n",
            "Enter your guess (4 digits from 1 to 6 with no repeats): 1234\n",
            "CCXX\n",
            "Enter your guess (4 digits from 1 to 6 with no repeats): 1234\n",
            "CCXX\n"
          ]
        }
      ]
    },
    {
      "cell_type": "markdown",
      "source": [
        "9. **Reflect**  \n",
        "Think of at least three ways you could change the rules or setup of the game, and in each case describe (in one sentence, you don't need to write code) what you would have to do to modify your code to play the new version of the game.  Use a text box below for each of your ideas."
      ],
      "metadata": {
        "id": "a58-KCX4ELRO"
      }
    },
    {
      "cell_type": "markdown",
      "source": [
        "(1) I think the first one and probably the easiest would be to change the number range to be between 0-9. If I did that then I would want to add more guesses. update the get_guess function"
      ],
      "metadata": {
        "id": "Jof2vIZSEfwo"
      }
    },
    {
      "cell_type": "markdown",
      "source": [
        "(2) I could also change the random code length making the password longer or shorter. That would require me to change the get_guess funcion and the bulls_cows for the new secret code."
      ],
      "metadata": {
        "id": "f2_QlBavEiqW"
      }
    },
    {
      "cell_type": "markdown",
      "source": [
        "(3) I think if I added the above two the game would be harder and I would want it to say which specific places were bulls or cows. Just like wordle where I know which numbers are bulls and cows. Which would make this project more dificult but I would need to change the responce funcion to do that."
      ],
      "metadata": {
        "id": "sqfq2EFpEjZt"
      }
    }
  ],
  "metadata": {
    "colab": {
      "provenance": [],
      "include_colab_link": true
    },
    "kernelspec": {
      "display_name": "Python 3",
      "name": "python3"
    },
    "language_info": {
      "name": "python"
    }
  },
  "nbformat": 4,
  "nbformat_minor": 0
}